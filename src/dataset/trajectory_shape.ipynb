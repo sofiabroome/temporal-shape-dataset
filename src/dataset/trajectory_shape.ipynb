{
 "cells": [
  {
   "cell_type": "code",
   "execution_count": 8,
   "id": "27d01c06-9045-43d6-a3a6-6a653ad7a68a",
   "metadata": {},
   "outputs": [],
   "source": [
    "%matplotlib inline\n",
    "\n",
    "import matplotlib\n",
    "import matplotlib.pyplot as plt"
   ]
  },
  {
   "cell_type": "code",
   "execution_count": 9,
   "id": "7d5c9404-3416-40ac-b9a3-97d970b549f9",
   "metadata": {},
   "outputs": [],
   "source": [
    "import math\n",
    "import os\n",
    "import sys\n",
    "\n",
    "import numpy as np\n",
    "from PIL import Image"
   ]
  },
  {
   "cell_type": "code",
   "execution_count": 10,
   "id": "05f4006d-bd41-4ce6-9ca7-962ef34b9231",
   "metadata": {},
   "outputs": [],
   "source": [
    "def arr_from_img(im, mean=0, std=1):\n",
    "    '''\n",
    "    Args:\n",
    "        im: Image\n",
    "        shift: Mean to subtract\n",
    "        std: Standard Deviation to subtract\n",
    "    Returns:\n",
    "        Image in np.float32 format, in width height channel format. With values in range 0,1\n",
    "        Shift means subtract by certain value. Could be used for mean subtraction.\n",
    "    '''\n",
    "    width, height = im.size\n",
    "    arr = im.getdata()\n",
    "    c = int(np.product(arr.size) / (width * height))\n",
    "\n",
    "    return (np.asarray(arr, dtype=np.float32).reshape((height, width, c)).transpose(2, 1, 0) / 255. - mean) / std\n",
    "\n",
    "\n",
    "def get_image_from_array(X, index, mean=0, std=1):\n",
    "    '''\n",
    "    Args:\n",
    "        X: Dataset of shape N x C x W x H\n",
    "        index: Index of image we want to fetch\n",
    "        mean: Mean to add\n",
    "        std: Standard Deviation to add\n",
    "    Returns:\n",
    "        Image with dimensions H x W x C or H x W if it's a single channel image\n",
    "    '''\n",
    "    ch, w, h = X.shape[1], X.shape[2], X.shape[3]\n",
    "    ret = (((X[index] + mean) * 255.) * std).reshape(ch, w, h).transpose(2, 1, 0).clip(0, 255).astype(np.uint8)\n",
    "    if ch == 1:\n",
    "        ret = ret.reshape(h, w)\n",
    "    return ret\n",
    "\n",
    "# loads mnist from web on demand\n",
    "def load_dataset(training=True):\n",
    "    if sys.version_info[0] == 2:\n",
    "        from urllib import urlretrieve\n",
    "    else:\n",
    "        from urllib.request import urlretrieve\n",
    "\n",
    "    def download(filename, source='http://yann.lecun.com/exdb/mnist/'):\n",
    "        print(\"Downloading %s\" % filename)\n",
    "        urlretrieve(source + filename, filename)\n",
    "\n",
    "    import gzip\n",
    "    def load_mnist_images(filename):\n",
    "        if not os.path.exists(filename):\n",
    "            download(filename)\n",
    "        with gzip.open(filename, 'rb') as f:\n",
    "            data = np.frombuffer(f.read(), np.uint8, offset=16)\n",
    "        data = data.reshape(-1, 1, 28, 28).transpose(0, 1, 3, 2)\n",
    "        return data / np.float32(255)\n",
    "\n",
    "    if training:\n",
    "        return load_mnist_images('train-images-idx3-ubyte.gz')\n",
    "    return load_mnist_images('t10k-images-idx3-ubyte.gz')"
   ]
  },
  {
   "cell_type": "code",
   "execution_count": 11,
   "id": "2376c88f-6e29-4620-9655-3f448664822c",
   "metadata": {},
   "outputs": [],
   "source": [
    "def generate_moving_mnist(training, shape=(64, 64), num_frames=30, num_sequences=2, original_size=28, nums_per_image=3, traj_per_image=2):\n",
    "    '''\n",
    "    Args:\n",
    "        training: Boolean, used to decide if downloading/generating train set or test set\n",
    "        shape: Shape we want for our moving images (new_width and new_height)\n",
    "        num_frames: Number of frames in a particular movement/animation/gif\n",
    "        num_sequences: Number of movement/animations/gif to generate\n",
    "        original_size: Real size of the images (eg: MNIST is 28x28)\n",
    "        nums_per_image: Digits per movement/animation/gif.\n",
    "    Returns:\n",
    "        Dataset of np.uint8 type with dimensions num_frames * num_sequences x 1 x new_width x new_height\n",
    "    '''\n",
    "    mnist = load_dataset(training)\n",
    "    width, height = shape\n",
    "\n",
    "    # Get how many pixels can we move around a single image (to fit its width)\n",
    "    lims = (x_lim, y_lim) = width - original_size, height - original_size\n",
    "    print(lims)\n",
    "\n",
    "    # Create a dataset of shape of num_frames * num_sequences x 1 x new_width x new_height\n",
    "    # Eg : 3000000 x 1 x 64 x 64\n",
    "    dataset = np.empty((num_frames * num_sequences, 1, width, height), dtype=np.uint8)\n",
    "\n",
    "    for img_idx in range(num_sequences):\n",
    "        # Randomly generate direction, speed and velocity for both images\n",
    "        direcs = np.pi * (np.random.rand(traj_per_image) * 2 - 1)  # Scalars, one per digit\n",
    "        direcs = np.insert(direcs, 0, direcs[0])\n",
    "        speeds = np.random.randint(5, size=traj_per_image) + 2  # Scalars, one per digit\n",
    "        speeds = np.insert(speeds, 0, speeds[0])\n",
    "        # veloc is 2xnums_per_image (x and y component for velocity for each digit)\n",
    "        veloc = np.asarray([(speed * math.cos(direc), speed * math.sin(direc)) for direc, speed in zip(direcs, speeds)])\n",
    "        \n",
    "        # Get a list containing three PIL images randomly sampled from the database\n",
    "        mnist_images = [Image.fromarray(get_image_from_array(mnist, r, mean=0)).resize((original_size, original_size),\n",
    "                                                                                       Image.ANTIALIAS) \\\n",
    "                        for r in np.random.randint(0, mnist.shape[0], nums_per_image)]\n",
    "        # Generate tuples of (x,y) i.e initial positions for nums_per_image (default : 2)\n",
    "        positions = np.asarray([(np.random.rand() * x_lim, np.random.rand() * y_lim) for _ in range(nums_per_image)])\n",
    "        print(positions)\n",
    "\n",
    "        # Generate new frames for the entire num_framesgth\n",
    "        for frame_idx in range(num_frames):\n",
    "\n",
    "            canvases = [Image.new('L', (width, height)) for _ in range(nums_per_image)]\n",
    "            canvas = np.zeros((1, width, height), dtype=np.float32)\n",
    "\n",
    "            # In canv (i.e Image object) place the image at the respective positions\n",
    "            # Super impose both images on the canvas (i.e empty np array)\n",
    "            for i, canv in enumerate(canvases):\n",
    "                canv.paste(mnist_images[i], tuple(positions[i].astype(int)))\n",
    "                canvas += arr_from_img(canv, mean=0)\n",
    "\n",
    "            # Get the next position by adding velocity\n",
    "            next_pos = positions + veloc\n",
    "\n",
    "            # Iterate over velocity and see if we hit the wall\n",
    "            # If we do then change the  (change direction)\n",
    "            for i, pos in enumerate(next_pos):\n",
    "                for j, coord in enumerate(pos):\n",
    "                    if coord < -2 or coord > lims[j] + 2:\n",
    "                        # One of list(veloc[i][:j]) or list(veloc[i][j + 1:]) always gives an empty list [].\n",
    "                        # Whereas [-1 * veloc[i][j]] reverses that component.\n",
    "                        # list(list + list) is just concatenating lists.\n",
    "                        veloc[i] = list(list(veloc[i][:j]) + [-1 * veloc[i][j]] + list(veloc[i][j + 1:]))\n",
    "\n",
    "            # Make the permanent change to position by adding updated velocity\n",
    "            positions = positions + veloc\n",
    "\n",
    "            # Add the canvas to the dataset array\n",
    "            dataset[img_idx * num_frames + frame_idx] = (canvas * 255).clip(0, 255).astype(np.uint8)\n",
    "\n",
    "    return dataset"
   ]
  },
  {
   "cell_type": "code",
   "execution_count": 12,
   "id": "dcb0146d-0331-4f4d-8dc7-4646882082ca",
   "metadata": {
    "tags": []
   },
   "outputs": [],
   "source": [
    "def main(training, dest, filetype='jpg', frame_size=64, num_frames=30, num_sequences=2, original_size=28,\n",
    "         nums_per_image=3):\n",
    "    dat = generate_moving_mnist(training, shape=(frame_size, frame_size), num_frames=num_frames, num_sequences=num_sequences, \\\n",
    "                                original_size=original_size, nums_per_image=nums_per_image)\n",
    "    n = num_sequences * num_frames\n",
    "    if filetype == 'npz':\n",
    "        np.savez(dest, dat)\n",
    "    elif filetype == 'jpg':\n",
    "        for i in range(dat.shape[0]):\n",
    "            Image.fromarray(get_image_from_array(dat, i, mean=0)).save(os.path.join(dest, '{}.jpg'.format(i)))"
   ]
  },
  {
   "cell_type": "code",
   "execution_count": 13,
   "id": "d2ab3b6c-54f2-4e3f-aef8-44d0654e2fa0",
   "metadata": {},
   "outputs": [],
   "source": [
    "def play_video(training, dest, filetype='jpg', frame_size=64, num_frames=30, num_sequences=2, original_size=28,\n",
    "         nums_per_image=3):\n",
    "    dat = generate_moving_mnist(training, shape=(frame_size, frame_size), num_frames=num_frames, num_sequences=num_sequences, \\\n",
    "                                original_size=original_size, nums_per_image=nums_per_image)\n",
    "    print(dat.shape)\n",
    "    n = num_sequences * num_frames\n",
    "    images_for_gif = [Image.fromarray(get_image_from_array(dat, i, mean=0)).convert('P') for i in range(num_frames)]\n",
    "    # images_for_gif[0].save('out.jpg') \n",
    "    # images_for_gif[0].save('out.gif', save_all=True, append_images=images_for_gif[1:], include_color_table=False, optimize=False, duration=60) \n",
    "    for i in range(num_sequences):\n",
    "        # pass\n",
    "        start_index = i * num_frames\n",
    "        images_for_gif = [Image.fromarray(get_image_from_array(dat, j, mean=0)).convert('P') for j in range(start_index, start_index+num_frames)]\n",
    "        images_for_gif[0].save(f'out_{start_index}.gif', save_all=True, append_images=images_for_gif[1:], include_color_table=False, optimize=False, duration=60) \n",
    "        # Image.fromarray(get_image_from_array(dat, i, mean=0)).save(os.path.join(dest, '{}.jpg'.format(i)))"
   ]
  },
  {
   "cell_type": "code",
   "execution_count": 14,
   "id": "5374a147-ac01-4a3e-971a-228cbdc4587b",
   "metadata": {},
   "outputs": [
    {
     "name": "stdout",
     "output_type": "stream",
     "text": [
      "(36, 36)\n",
      "[[31.72169976 13.66241049]\n",
      " [27.68129351 17.36945626]\n",
      " [ 9.05164008  5.70030415]]\n",
      "[[29.86101421 24.78500251]\n",
      " [ 2.13717253  1.83625273]\n",
      " [21.83145616  2.30290008]]\n",
      "(60, 1, 64, 64)\n"
     ]
    }
   ],
   "source": [
    "training=False\n",
    "dest = 'tempshape_gifs/'\n",
    "play_video(training, dest)"
   ]
  },
  {
   "cell_type": "code",
   "execution_count": 15,
   "id": "cc00df51-f2bb-4d01-a763-82a5781758e4",
   "metadata": {},
   "outputs": [
    {
     "data": {
      "text/html": [
       "<img src=\"out_0.gif\">"
      ],
      "text/plain": [
       "<IPython.core.display.HTML object>"
      ]
     },
     "execution_count": 15,
     "metadata": {},
     "output_type": "execute_result"
    }
   ],
   "source": [
    "from IPython.display import HTML\n",
    "%matplotlib inline\n",
    "HTML('<img src=\"out_0.gif\">')"
   ]
  },
  {
   "cell_type": "markdown",
   "id": "567804ad-39a9-4c94-b563-bfe654e46421",
   "metadata": {},
   "source": [
    "![SegmentLocal](out_0.gif \"segment\")"
   ]
  }
 ],
 "metadata": {
  "kernelspec": {
   "display_name": "temporal_shape",
   "language": "python",
   "name": "temporal_shape"
  },
  "language_info": {
   "codemirror_mode": {
    "name": "ipython",
    "version": 3
   },
   "file_extension": ".py",
   "mimetype": "text/x-python",
   "name": "python",
   "nbconvert_exporter": "python",
   "pygments_lexer": "ipython3",
   "version": "3.8.11"
  }
 },
 "nbformat": 4,
 "nbformat_minor": 5
}
